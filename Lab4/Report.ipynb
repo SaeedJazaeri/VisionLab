{
 "cells": [
  {
   "cell_type": "code",
   "execution_count": 113,
   "metadata": {},
   "outputs": [],
   "source": [
    "import os, os.path\n",
    "import cv2\n",
    "import random\n",
    "from sklearn import decomposition\n",
    "import matplotlib.pyplot as plt\n",
    "import numpy as np\n",
    "\n",
    "\n",
    "nuetral_path = \"../Lab1/Cohn-Kanade/neutral/\"\n",
    "happy_path = \"../Lab1/Cohn-Kanade/happy/\"\n",
    "surprise_path = \"../Lab1/Cohn-Kanade/surprise/\"\n",
    "disgust_path = \"../Lab1/Cohn-Kanade/disgust/\"\n",
    "\n",
    "\n",
    "neutral_imgs = []\n",
    "happy_imgs = []\n",
    "surprise_imgs = []\n",
    "disgust_imgs = []\n",
    "\n",
    "images = os.listdir(nuetral_path)\n",
    "for img_num, img in enumerate(images):\n",
    "    neutral_imgs.append(cv2.cvtColor(cv2.imread(nuetral_path + '/' + img), cv2.COLOR_BGR2GRAY))\n",
    "\n",
    "images = os.listdir(happy_path)\n",
    "for img_num, img in enumerate(images):\n",
    "    happy_imgs.append(cv2.cvtColor(cv2.imread(happy_path + '/' + img), cv2.COLOR_BGR2GRAY))\n",
    "\n",
    "images = os.listdir(surprise_path)\n",
    "for img_num, img in enumerate(images):\n",
    "    surprise_imgs.append(cv2.cvtColor(cv2.imread(surprise_path + '/' + img), cv2.COLOR_BGR2GRAY))\n",
    "\n",
    "images = os.listdir(disgust_path)\n",
    "for img_num, img in enumerate(images):\n",
    "    disgust_imgs.append(cv2.cvtColor(cv2.imread(disgust_path + '/' + img), cv2.COLOR_BGR2GRAY))\n",
    "\n",
    "random.shuffle(neutral_imgs)\n",
    "random.shuffle(happy_imgs)\n",
    "random.shuffle(surprise_imgs)\n",
    "random.shuffle(disgust_imgs)\n",
    "\n",
    "\n",
    "X = neutral_imgs + happy_imgs + surprise_imgs + disgust_imgs\n",
    "y = [-2]*len(neutral_imgs) + [-1]*len(happy_imgs) + [1]*len(surprise_imgs) + [2]*len(disgust_imgs)\n",
    "\n",
    "X_train = neutral_imgs[0:120] + happy_imgs[:60] + surprise_imgs[:60] + disgust_imgs[0:30]\n",
    "X_test = neutral_imgs[120:] + happy_imgs[60:] + surprise_imgs[60:] + disgust_imgs[30:]\n",
    "y_train = [-2]*120 + [-1]*60 + [1]*60 + [2]*30\n",
    "y_test = [-2]*(len(neutral_imgs)-120) + [-1]*(len(happy_imgs)-60) + [1]*(len(surprise_imgs)-60) + [2]*(len(disgust_imgs)-30)\n",
    "\n",
    "\n",
    "twoD_to_vec = lambda mat: mat.reshape(-1).T\n",
    "X_train_vectorized = list(map(twoD_to_vec, X_train))\n",
    "X_test_vectorized = list(map(twoD_to_vec, X_test))\n",
    "\n",
    "\n",
    "pca = decomposition.PCA(n_components=50)\n",
    "\n",
    "X_train_pca = pca.fit_transform(X_train_vectorized)\n",
    "X_test_pca = pca.transform(X_test_vectorized)"
   ]
  },
  {
   "cell_type": "markdown",
   "metadata": {},
   "source": [
    "در قسمت بالا صرفا داده ها را مطابق خواسته لود کرده و با پی سی ای کاهش بعد داده ایم."
   ]
  },
  {
   "cell_type": "code",
   "execution_count": 108,
   "metadata": {},
   "outputs": [
    {
     "name": "stdout",
     "output_type": "stream",
     "text": [
      "Best C Value is 25\n"
     ]
    }
   ],
   "source": [
    "from sklearn.svm import SVC\n",
    "from sklearn.metrics import accuracy_score\n",
    "from statistics import mean\n",
    "\n",
    "pca_cv = decomposition.PCA(n_components=10)\n",
    "\n",
    "\n",
    "X = neutral_imgs + happy_imgs + surprise_imgs + disgust_imgs\n",
    "X = list(map(twoD_to_vec, X))\n",
    "y = [-2]*len(neutral_imgs) + [-1]*len(happy_imgs) + [1]*len(surprise_imgs) + [2]*len(disgust_imgs)\n",
    "n = len(y)\n",
    "\n",
    "C_list = range(5, 30, 2)\n",
    "accuracy_list = []\n",
    "cv_scores = []\n",
    "\n",
    "Num_Folds = 5\n",
    "\n",
    "# for C in C_list:\n",
    "#     svm = SVC(C=C) \n",
    "#     for i in range(Num_Folds):\n",
    "#         X_train_cv = X[0 : int(i*n/Num_Folds)] + X[int((i+1)*n/Num_Folds) : ]\n",
    "#         X_test_cv = X[int(i*n/Num_Folds) : int((i+1)*n/Num_Folds)] \n",
    "#         y_train_cv = y[0 : int(i*n/Num_Folds)] + y[int((i+1)*n/Num_Folds) : ]\n",
    "#         y_test_cv = y[int(i*n/Num_Folds) : int((i+1)*n/Num_Folds)] \n",
    "\n",
    "#         X_train_pca_cv = pca.fit_transform(X_train)\n",
    "#         X_test_pca_cv = pca.transform(X_test)\n",
    "\n",
    "#         svm.fit(X_train_pca, y_train)\n",
    "#         y_pred_cv = svm.predict(X_test_pca_cv)\n",
    "#         accuracy_list.append(accuracy_score(y_test, y_pred_cv))\n",
    "\n",
    "#     cv_scores.append(mean(accuracy_list))\n",
    "#     accuracy_list.clear()\n",
    "\n",
    "        \n",
    "C_opt = C_list[cv_scores.index(max(cv_scores))]\n",
    "print(F\"Best C Value is {C_opt}\")\n",
    "\n"
   ]
  },
  {
   "cell_type": "markdown",
   "metadata": {},
   "source": [
    "در سل بالا برای یک تعداد محتمل برای مقدار «سی» و با روش «کی فولد» با مقدار 5 مقدار بهینه «سی» را پیدا کرده ایم که برابر با 25 میباشد.\n",
    "دقت کنید که زمان اجرای سل بالا طولانی است و درصورتی که اجرای آن لزومی ندارد آن را اجرا نکنید در غیر اینصورت با آنکامنت کردن کد های بالا به اجرای آن و بررسی خروجی بپردازید."
   ]
  },
  {
   "cell_type": "code",
   "execution_count": 125,
   "metadata": {},
   "outputs": [
    {
     "name": "stdout",
     "output_type": "stream",
     "text": [
      "Accuracy: 0.8214285714285714\n",
      "              precision    recall  f1-score   support\n",
      "\n",
      "          -2       0.77      0.94      0.85        70\n",
      "          -1       0.90      0.72      0.80        25\n",
      "           1       1.00      0.86      0.92        28\n",
      "           2       0.70      0.41      0.52        17\n",
      "\n",
      "    accuracy                           0.82       140\n",
      "   macro avg       0.84      0.73      0.77       140\n",
      "weighted avg       0.83      0.82      0.81       140\n",
      "\n"
     ]
    }
   ],
   "source": [
    "from sklearn.metrics import classification_report\n",
    "\n",
    "SVM_classifier = SVC(C=C_opt)  \n",
    "SVM_classifier.fit(X_train_pca, y_train)\n",
    "\n",
    "y_pred = SVM_classifier.predict(X_test_pca)\n",
    "\n",
    "accuracy = accuracy_score(y_test, y_pred)\n",
    "report = classification_report(y_test, y_pred)\n",
    "\n",
    "print(f\"Accuracy: {accuracy}\")\n",
    "print(report)"
   ]
  },
  {
   "cell_type": "markdown",
   "metadata": {},
   "source": [
    "در سل بالا مدل «اس وی ام» را برای مقدار «سی» بهینه بدست آمده در سل های قبل آموزش داده و دقت را بدست آورده ایم. همچنین با ابزاری که کتابخانه \n",
    "سایکیت لرن در اختیار ما قرار میدهد، معیار های دیگری را نیز برای عملکرد این مدل نشان داده ایم که در جدول بالا قابل مشاهده است."
   ]
  },
  {
   "cell_type": "code",
   "execution_count": 127,
   "metadata": {},
   "outputs": [
    {
     "data": {
      "image/png": "[encoded data removed]",
      "text/plain": [
       "<Figure size 800x600 with 2 Axes>"
      ]
     },
     "metadata": {},
     "output_type": "display_data"
    }
   ],
   "source": [
    "from sklearn.metrics import confusion_matrix\n",
    "import seaborn as sns\n",
    "import matplotlib.pyplot as plt\n",
    "\n",
    "conf_mat = confusion_matrix(y_test, y_pred)\n",
    "\n",
    "plt.figure(figsize=(8, 6))\n",
    "sns.heatmap(conf_mat, annot=True, fmt='d', cmap='Greens', xticklabels=\"NHSD\", yticklabels=\"NHSD\")\n",
    "plt.xlabel('Predicted')\n",
    "plt.ylabel('Actual')\n",
    "plt.title('Confusion Matrix')\n",
    "plt.show()\n"
   ]
  },
  {
   "cell_type": "markdown",
   "metadata": {},
   "source": [
    "در این قسمت نیز، یک حالت تصویرسازی شده برای فهم بهتر عملکرد مدل را نشان داده ایم. در ماتریس فوق، میتوانید عملکرد مدل برای پیش بینی لیبل هر داده و لیبل واقعی آن را مشاهده کنید.\n",
    "با استفاده از این ماتریس داده های خوبی قابل فهم است مثلا اینکه مدل نسبت به کدام کلاس دقت کمتر یا بیشتری دارد."
   ]
  },
  {
   "cell_type": "code",
   "execution_count": 122,
   "metadata": {},
   "outputs": [
    {
     "name": "stdout",
     "output_type": "stream",
     "text": [
      "Best C value: 15\n"
     ]
    }
   ],
   "source": [
    "\n"
   ]
  }
 ],
 "metadata": {
  "kernelspec": {
   "display_name": "Python 3",
   "language": "python",
   "name": "python3"
  },
  "language_info": {
   "codemirror_mode": {
    "name": "ipython",
    "version": 3
   },
   "file_extension": ".py",
   "mimetype": "text/x-python",
   "name": "python",
   "nbconvert_exporter": "python",
   "pygments_lexer": "ipython3",
   "version": "3.9.0"
  }
 },
 "nbformat": 4,
 "nbformat_minor": 2
}
