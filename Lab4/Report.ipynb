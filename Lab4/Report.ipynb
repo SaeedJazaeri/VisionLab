{
 "cells": [
  {
   "cell_type": "code",
   "execution_count": 42,
   "metadata": {},
   "outputs": [],
   "source": [
    "import os, os.path\n",
    "import cv2\n",
    "import random\n",
    "from sklearn import decomposition\n",
    "import matplotlib.pyplot as plt\n",
    "import numpy as np\n",
    "from sklearn.preprocessing import StandardScaler \n",
    "\n",
    "nuetral_path = \"../Lab1/Cohn-Kanade/neutral/\"\n",
    "happy_path = \"../Lab1/Cohn-Kanade/happy/\"\n",
    "surprise_path = \"../Lab1/Cohn-Kanade/surprise/\"\n",
    "# disgust_path = \"../Lab1/Cohn-Kanade/disgust/\"\n",
    "\n",
    "\n",
    "neutral_imgs = []\n",
    "happy_imgs = []\n",
    "surprise_imgs = []\n",
    "# disgust_imgs = []\n",
    "\n",
    "images = os.listdir(nuetral_path)\n",
    "for img_num, img in enumerate(images):\n",
    "    neutral_imgs.append(cv2.cvtColor(cv2.imread(nuetral_path + '/' + img), cv2.COLOR_BGR2GRAY))\n",
    "\n",
    "images = os.listdir(happy_path)\n",
    "for img_num, img in enumerate(images):\n",
    "    happy_imgs.append(cv2.cvtColor(cv2.imread(happy_path + '/' + img), cv2.COLOR_BGR2GRAY))\n",
    "\n",
    "images = os.listdir(surprise_path)\n",
    "for img_num, img in enumerate(images):\n",
    "    surprise_imgs.append(cv2.cvtColor(cv2.imread(surprise_path + '/' + img), cv2.COLOR_BGR2GRAY))\n",
    "\n",
    "# images = os.listdir(disgust_path)\n",
    "# for img_num, img in enumerate(images):\n",
    "#     disgust_imgs.append(cv2.cvtColor(cv2.imread(disgust_path + '/' + img), cv2.COLOR_BGR2GRAY))\n",
    "\n",
    "random.shuffle(neutral_imgs)\n",
    "random.shuffle(happy_imgs)\n",
    "random.shuffle(surprise_imgs)\n",
    "# random.shuffle(disgust_imgs)\n",
    "\n",
    "\n",
    "X = neutral_imgs + happy_imgs + surprise_imgs #+ disgust_imgs\n",
    "y = [-2]*len(neutral_imgs) + [-1]*len(happy_imgs) + [1]*len(surprise_imgs) #+ [2]*len(disgust_imgs)\n",
    "\n",
    "X_train = neutral_imgs[:120] + happy_imgs[:60] + surprise_imgs[:60] #+ disgust_imgs[:30]\n",
    "X_test = neutral_imgs[120:] + happy_imgs[60:] + surprise_imgs[60:] #+ disgust_imgs[30:]\n",
    "y_train = [-2]*120 + [-1]*60 + [1]*60 #+ [2]*30\n",
    "y_test = [-2]*(len(neutral_imgs)-120) + [-1]*(len(happy_imgs)-60) + [1]*(len(surprise_imgs)-60) #+ [2]*(len(disgust_imgs)-30)\n",
    "\n",
    "\n",
    "twoD_to_vec = lambda mat: mat.reshape(-1).T\n",
    "X_train_vectorized = list(map(twoD_to_vec, X_train))\n",
    "X_test_vectorized = list(map(twoD_to_vec, X_test))\n",
    "\n",
    "\n",
    "scaler = StandardScaler()\n",
    "X_train_vectorized_scaled = scaler.fit_transform(X_train_vectorized)\n",
    "X_test_vectorized_scaled = scaler.transform(X_test_vectorized)\n",
    "\n",
    "pca = decomposition.PCA(n_components=120)\n",
    "\n",
    "X_train_pca = pca.fit_transform(X_train_vectorized_scaled)\n",
    "X_test_pca = pca.transform(X_test_vectorized_scaled)\n",
    "\n"
   ]
  },
  {
   "cell_type": "markdown",
   "metadata": {},
   "source": [
    "در قسمت بالا صرفا داده ها را مطابق خواسته لود کرده و با پی سی ای کاهش بعد داده ایم."
   ]
  },
  {
   "cell_type": "code",
   "execution_count": 13,
   "metadata": {},
   "outputs": [
    {
     "name": "stdout",
     "output_type": "stream",
     "text": [
      "Best C Value is 50\n"
     ]
    }
   ],
   "source": [
    "from sklearn.svm import SVC\n",
    "from sklearn.metrics import accuracy_score\n",
    "from statistics import mean\n",
    "import numpy as np\n",
    "\n",
    "pca_cv = decomposition.PCA(n_components=120)\n",
    "\n",
    "\n",
    "X = neutral_imgs + happy_imgs + surprise_imgs #+ disgust_imgs\n",
    "X = list(map(twoD_to_vec, X))\n",
    "y = [-2]*len(neutral_imgs) + [-1]*len(happy_imgs) + [1]*len(surprise_imgs) #+ [2]*len(disgust_imgs)\n",
    "X_pca_cv = pca.fit_transform(X)\n",
    "n = len(y)\n",
    "\n",
    "C_list = [0.0001, 0.001, 0.01, 0.1, 0.5, 1, 5, 10, 20, 50, 100, 1000]\n",
    "accuracy_list = []\n",
    "cv_scores = []\n",
    "\n",
    "Num_Folds = 5\n",
    "\n",
    "for C in C_list: \n",
    "    for i in range(Num_Folds):\n",
    "        svm = SVC(C=C)\n",
    "        X_train_cv = list(X_pca_cv[0:int(i*n/Num_Folds) , :]) + list(X_pca_cv[int((i+1)*n/Num_Folds): , :])\n",
    "        X_test_cv  = list(X_pca_cv[int(i*n/Num_Folds) : int((i+1)*n/Num_Folds)])\n",
    "        y_train_cv = y[0 : int(i*n/Num_Folds)] + y[int((i+1)*n/Num_Folds) : ]\n",
    "        y_test_cv  = y[int(i*n/Num_Folds) : int((i+1)*n/Num_Folds)] \n",
    "\n",
    "        svm.fit(np.array(X_train_cv), y_train_cv)\n",
    "        y_pred_cv = svm.predict(np.array(X_test_cv))\n",
    "        accuracy_list.append(accuracy_score(y_test_cv, y_pred_cv))\n",
    "\n",
    "    cv_scores.append(mean(accuracy_list))\n",
    "    accuracy_list.clear()\n",
    "\n",
    "        \n",
    "C_opt = C_list[cv_scores.index(max(cv_scores))]\n",
    "print(F\"Best C Value is {C_opt}\")"
   ]
  },
  {
   "cell_type": "markdown",
   "metadata": {},
   "source": [
    "در سل بالا برای یک تعداد محتمل برای مقدار «سی» و با روش «کی فولد» با مقدار 5 مقدار بهینه «سی» را پیدا کرده ایم که برابر با 17 میباشد (تعداد محدودی از مقادیر مختلف دیده شد) میباشد.\n",
    "دقت کنید که زمان اجرای سل بالا طولانی است و درصورتی که اجرای آن لزومی ندارد آن را اجرا نکنید در غیر اینصورت با آنکامنت کردن کد های بالا به اجرای آن و بررسی خروجی بپردازید."
   ]
  },
  {
   "cell_type": "code",
   "execution_count": 44,
   "metadata": {},
   "outputs": [
    {
     "name": "stdout",
     "output_type": "stream",
     "text": [
      "Accuracy: 0.8292682926829268\n",
      "              precision    recall  f1-score   support\n",
      "\n",
      "          -2       0.85      0.90      0.88        70\n",
      "          -1       0.91      0.80      0.85        25\n",
      "           1       0.70      0.68      0.69        28\n",
      "\n",
      "    accuracy                           0.83       123\n",
      "   macro avg       0.82      0.79      0.81       123\n",
      "weighted avg       0.83      0.83      0.83       123\n",
      "\n"
     ]
    }
   ],
   "source": [
    "from sklearn.metrics import classification_report\n",
    "\n",
    "SVM_neu2oth = SVC(C=C_opt)  \n",
    "SVM_hap2oth = SVC(C=C_opt)  \n",
    "SVM_sup2oth = SVC(C=C_opt)  \n",
    "################################################\n",
    "y_train_neu2oth = [1]*120 + [0]*120#150\n",
    "SVM_neu2oth.fit(X_train_pca, y_train_neu2oth)\n",
    "\n",
    "y_train_hap2oth = [0]*120 + [1]*60 + [0]*60#90\n",
    "SVM_hap2oth.fit(X_train_pca, y_train_hap2oth)\n",
    "\n",
    "y_train_sup2oth = [0]*120 + [0]*60 + [1]*60 #+ [0]*30\n",
    "SVM_sup2oth.fit(X_train_pca, y_train_sup2oth)\n",
    "\n",
    "# print(SVM_sup2oth.decision_function(X_test_pca))\n",
    "################################################\n",
    "y_pred_neu2oth = SVM_neu2oth.predict(X_test_pca)\n",
    "y_pred_hap2oth = SVM_hap2oth.predict(X_test_pca)\n",
    "y_pred_sup2oth = SVM_sup2oth.predict(X_test_pca)\n",
    "y_pred = []\n",
    "for i in range(len(y_test)):\n",
    "    if y_pred_neu2oth[i] == 1:\n",
    "        y_pred.append(-2)\n",
    "    elif y_pred_hap2oth[i] == 1:\n",
    "        y_pred.append(-1)\n",
    "    else :\n",
    "        y_pred.append(1)\n",
    "    # elif y_pred_sup2oth[i] == 1:\n",
    "        # y_pred.append(1)\n",
    "    # else:\n",
    "    #     y_pred.append(2)\n",
    "\n",
    "accuracy = accuracy_score(y_test, y_pred)\n",
    "report = classification_report(y_test, y_pred)\n",
    "\n",
    "print(f\"Accuracy: {accuracy}\")\n",
    "print(report)\n"
   ]
  },
  {
   "cell_type": "markdown",
   "metadata": {},
   "source": [
    "در سل بالا، مطابق خواسته دستور کار، برای هر کلاس از داده و داده های سایر کلاس ها، کلسیفایر های جداگانه آموزش داده ایم. پس از آن با هر کدام از این کلسیفایر ها تصمیم گیری میان\n",
    "اینکه این نمونه متعلق به «کلاس خاص فلان» است یا متعلق به «یکی از سایر کلاس ها» است را انجام داده ایم. دقت کنید که این تصمیم گیری را \n",
    "با تمام کلسیفایر ها انجام داده ایم و با توجه به نتیجه تمام این کلسیفایر ها توانسته ایم لیبل مناسب و نهایی آن نمونه را مشخص کنیم.\n",
    "\n",
    "در ادامه نیز مطابق خواسته مساله، معیار های مختلفی از عملکرد مدل (که در واقع نتیجه حاصله از عملکرد همزمان چندین مدل دو کلاسه است) را نشان داده ایم مانند «پرسیشن» یا «ریکال» یا \n",
    "معیار «اف-وان اسکور» که در بالا مشهود است.\n",
    "\n",
    "همچنین خطی که کامنت شده است را اگر آنکامنت کنید، میتوانید ضریب اطمینان لیبلی که هر مدل به نمونه وارده اساین میکند را متوجه شوید که این هم معیار خوبی از عملکرد تفکیک دادن مدل است."
   ]
  },
  {
   "cell_type": "code",
   "execution_count": 38,
   "metadata": {},
   "outputs": [
    {
     "data": {
      "image/png": "[encoded data removed]",
      "text/plain": [
       "<Figure size 800x600 with 2 Axes>"
      ]
     },
     "metadata": {},
     "output_type": "display_data"
    }
   ],
   "source": [
    "from sklearn.metrics import confusion_matrix\n",
    "import seaborn as sns\n",
    "import matplotlib.pyplot as plt\n",
    "\n",
    "conf_mat = confusion_matrix(y_test, y_pred)\n",
    "\n",
    "plt.figure(figsize=(8, 6))\n",
    "sns.heatmap(conf_mat, annot=True, fmt='d', cmap='Greens', xticklabels=\"NHS\", yticklabels=\"NHS\")\n",
    "plt.xlabel('Predicted')\n",
    "plt.ylabel('Actual')\n",
    "plt.title('Confusion Matrix')\n",
    "plt.show()\n"
   ]
  },
  {
   "cell_type": "markdown",
   "metadata": {},
   "source": [
    "در این قسمت نیز، یک حالت تصویرسازی شده برای فهم بهتر عملکرد مدل را نشان داده ایم. در ماتریس فوق، میتوانید عملکرد مدل برای پیش بینی لیبل هر داده و لیبل واقعی آن را مشاهده کنید.\n",
    "با استفاده از این ماتریس داده های خوبی قابل فهم است مثلا اینکه مدل نسبت به کدام کلاس دقت کمتر یا بیشتری دارد."
   ]
  },
  {
   "cell_type": "code",
   "execution_count": 46,
   "metadata": {},
   "outputs": [
    {
     "name": "stdout",
     "output_type": "stream",
     "text": [
      "Best hyperparameters for RBF Kernel:\n",
      "Best C: 20, Best gamma: 1e-06\n",
      "\n",
      "Best hyperparameters for Linear Kernel:\n",
      "Best C: 0.0001\n"
     ]
    }
   ],
   "source": [
    "from sklearn.model_selection import GridSearchCV\n",
    "from sklearn.svm import SVC\n",
    "\n",
    "param_grid_rbf = {'C': [0.0001, 0.001, 0.01, 0.1, 0.5, 1, 5, 10, 20, 50, 100, 1000],\n",
    "                  'gamma': [0.000001, 0.00001, 0.0001, 0.00002,1,10,100]}\n",
    "\n",
    "svm_rbf = SVC(kernel='rbf')\n",
    "grid_search_rbf = GridSearchCV(estimator=svm_rbf, param_grid=param_grid_rbf, cv=5, scoring='accuracy')\n",
    "grid_search_rbf.fit(X_train_pca, y_train)\n",
    "\n",
    "best_C_rbf = grid_search_rbf.best_params_['C']\n",
    "best_gamma_rbf = grid_search_rbf.best_params_['gamma']\n",
    "\n",
    "param_grid_linear = {'C': [0.0001, 0.001, 0.01, 0.1, 0.5, 1, 5, 10, 20, 50, 100, 1000]}\n",
    "\n",
    "svm_linear = SVC(kernel='linear')\n",
    "grid_search_linear = GridSearchCV(estimator=svm_linear, param_grid=param_grid_linear, cv=5, scoring='accuracy')\n",
    "grid_search_linear.fit(X_train_pca, y_train)\n",
    "\n",
    "best_C_linear = grid_search_linear.best_params_['C']\n",
    "\n",
    "print(\"Best hyperparameters for RBF Kernel:\")\n",
    "print(f\"Best C: {best_C_rbf}, Best gamma: {best_gamma_rbf}\")\n",
    "\n",
    "print(\"\\nBest hyperparameters for Linear Kernel:\")\n",
    "print(f\"Best C: {best_C_linear}\")\n"
   ]
  },
  {
   "cell_type": "code",
   "execution_count": 47,
   "metadata": {},
   "outputs": [
    {
     "name": "stdout",
     "output_type": "stream",
     "text": [
      "Results for RBF Kernel:\n",
      "Accuracy: 0.8861788617886179\n",
      "              precision    recall  f1-score   support\n",
      "\n",
      "          -2       0.88      0.93      0.90        70\n",
      "          -1       0.92      0.88      0.90        25\n",
      "           1       0.88      0.79      0.83        28\n",
      "\n",
      "    accuracy                           0.89       123\n",
      "   macro avg       0.89      0.86      0.88       123\n",
      "weighted avg       0.89      0.89      0.89       123\n",
      "\n",
      "\n",
      "Results for Linear Kernel:\n",
      "Accuracy: 0.8943089430894309\n",
      "              precision    recall  f1-score   support\n",
      "\n",
      "          -2       0.88      0.94      0.91        70\n",
      "          -1       1.00      0.88      0.94        25\n",
      "           1       0.85      0.79      0.81        28\n",
      "\n",
      "    accuracy                           0.89       123\n",
      "   macro avg       0.91      0.87      0.89       123\n",
      "weighted avg       0.90      0.89      0.89       123\n",
      "\n"
     ]
    }
   ],
   "source": [
    "from sklearn.metrics import accuracy_score, classification_report\n",
    "\n",
    "SVM_neu2oth_rbf = SVC(kernel='rbf', C=best_C_rbf, gamma=best_gamma_rbf)\n",
    "SVM_hap2oth_rbf = SVC(kernel='rbf', C=best_C_rbf, gamma=best_gamma_rbf)\n",
    "SVM_sup2oth_rbf = SVC(kernel='rbf', C=best_C_rbf, gamma=best_gamma_rbf)\n",
    "################################################\n",
    "y_train_neu2oth_rbf = [1]*120 + [0]*120#150\n",
    "SVM_neu2oth_rbf.fit(X_train_pca, y_train_neu2oth_rbf)\n",
    "\n",
    "y_train_hap2oth_rbf = [0]*120 + [1]*60 + [0]*60#90\n",
    "SVM_hap2oth_rbf.fit(X_train_pca, y_train_hap2oth_rbf)\n",
    "\n",
    "y_train_sup2oth_rbf = [0]*120 + [0]*60 + [1]*60 #+ [0]*30\n",
    "SVM_sup2oth_rbf.fit(X_train_pca, y_train_sup2oth_rbf)\n",
    "\n",
    "# print(SVM_sup2oth.decision_function(X_test_pca))\n",
    "################################################\n",
    "y_pred_neu2oth_rbf = SVM_neu2oth_rbf.predict(X_test_pca)\n",
    "y_pred_hap2oth_rbf = SVM_hap2oth_rbf.predict(X_test_pca)\n",
    "y_pred_sup2oth_rbf = SVM_sup2oth_rbf.predict(X_test_pca)\n",
    "y_pred_rbf = []\n",
    "for i in range(len(y_test)):\n",
    "    if y_pred_sup2oth_rbf[i] == 1:\n",
    "        y_pred_rbf.append(1)\n",
    "    elif y_pred_hap2oth_rbf[i] == 1:\n",
    "        y_pred_rbf.append(-1)\n",
    "    # elif y_pred_sup2oth_rbf[i] == 1:\n",
    "    #     y_pred_rbf.append(1)\n",
    "    # else:\n",
    "    #     y_pred_rbf.append(2)\n",
    "    else:\n",
    "        y_pred_rbf.append(-2)\n",
    "\n",
    "accuracy_rbf = accuracy_score(y_test, y_pred_rbf)\n",
    "report_rbf = classification_report(y_test, y_pred_rbf)\n",
    "\n",
    "\n",
    "\n",
    "SVM_neu2oth_linear = SVC(kernel='linear', C=best_C_linear)\n",
    "SVM_hap2oth_linear = SVC(kernel='linear', C=best_C_linear)\n",
    "SVM_sup2oth_linear = SVC(kernel='linear', C=best_C_linear)\n",
    "################################################\n",
    "y_train_neu2oth_linear = [1]*120 + [0]*120#150\n",
    "SVM_neu2oth_linear.fit(X_train_pca, y_train_neu2oth_linear)\n",
    "\n",
    "y_train_hap2oth_linear = [0]*120 + [1]*60 + [0]*60#90\n",
    "SVM_hap2oth_linear.fit(X_train_pca, y_train_hap2oth_linear)\n",
    "\n",
    "y_train_sup2oth_linear = [0]*120 + [0]*60 + [1]*60 #+ [0]*30\n",
    "SVM_sup2oth_linear.fit(X_train_pca, y_train_sup2oth_linear)\n",
    "\n",
    "# print(SVM_sup2oth.decision_function(X_test_pca))\n",
    "################################################\n",
    "y_pred_neu2oth_linear = SVM_neu2oth_linear.predict(X_test_pca)\n",
    "y_pred_hap2oth_linear = SVM_hap2oth_linear.predict(X_test_pca)\n",
    "y_pred_sup2oth_linear = SVM_sup2oth_linear.predict(X_test_pca)\n",
    "y_pred_linear = []\n",
    "for i in range(len(y_test)):\n",
    "    if y_pred_neu2oth_linear[i] == 1:\n",
    "        y_pred_linear.append(-2)\n",
    "    elif y_pred_hap2oth_linear[i] == 1:\n",
    "        y_pred_linear.append(-1)\n",
    "    # elif y_pred_sup2oth_linear[i] == 1:\n",
    "    #     y_pred_linear.append(1)\n",
    "    # else:\n",
    "    #     y_pred_linear.append(2)\n",
    "    else:\n",
    "        y_pred_linear.append(1)\n",
    "\n",
    "accuracy_linear = accuracy_score(y_test, y_pred_linear)\n",
    "report_linear = classification_report(y_test, y_pred_linear)\n",
    "\n",
    "print(\"Results for RBF Kernel:\")\n",
    "print(f\"Accuracy: {accuracy_rbf}\")\n",
    "print(report_rbf)\n",
    "\n",
    "\n",
    "print(\"\\nResults for Linear Kernel:\")\n",
    "print(f\"Accuracy: {accuracy_linear}\")\n",
    "print(report_linear)\n",
    " "
   ]
  },
  {
   "cell_type": "code",
   "execution_count": 48,
   "metadata": {},
   "outputs": [
    {
     "name": "stdout",
     "output_type": "stream",
     "text": [
      "[-2, -2, -2, -2, -2, -2, -2, -2, -2, -2, -2, -2, 1, -2, -2, -2, -2, -2, -2, -2, -2, -2, -2, -2, -2, -2, -2, -2, 1, -2, -2, -2, -2, -2, -2, 1, -2, -2, -2, -2, -2, -2, -2, -2, -2, -1, -1, -2, -2, -2, -2, -2, -2, -2, -2, -2, -2, -2, -2, -2, -2, -2, -2, -2, -2, -2, -2, -2, -2, -2, -1, -1, -1, -1, -2, -1, -1, -1, -2, -1, -1, -1, -1, -1, -1, -1, -1, -1, -2, -1, -1, -1, -1, -1, -1, 1, -2, 1, 1, 1, 1, 1, 1, 1, 1, -2, 1, -2, 1, 1, 1, -2, 1, 1, -2, 1, 1, 1, 1, 1, -2, 1, 1]\n"
     ]
    }
   ],
   "source": [
    "print(y_pred_rbf)"
   ]
  }
 ],
 "metadata": {
  "kernelspec": {
   "display_name": "Python 3",
   "language": "python",
   "name": "python3"
  },
  "language_info": {
   "codemirror_mode": {
    "name": "ipython",
    "version": 3
   },
   "file_extension": ".py",
   "mimetype": "text/x-python",
   "name": "python",
   "nbconvert_exporter": "python",
   "pygments_lexer": "ipython3",
   "version": "3.9.0"
  }
 },
 "nbformat": 4,
 "nbformat_minor": 2
}
