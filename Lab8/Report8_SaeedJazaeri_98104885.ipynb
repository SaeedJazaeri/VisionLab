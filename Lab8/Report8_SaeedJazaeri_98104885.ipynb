{
 "cells": [
  {
   "cell_type": "code",
   "execution_count": 2,
   "metadata": {},
   "outputs": [],
   "source": [
    "import cv2\n",
    "import numpy as np\n",
    "from matplotlib import pyplot as plt\n",
    "\n",
    "cap = cv2.VideoCapture('./squirrel.mp4') #Replace the path with 0 to open the camera\n",
    "\n",
    "maxCorners = 100\n",
    "\n",
    "color = np.random.randint(0, 255, (maxCorners, 3))\n",
    "feature_params = dict( maxCorners = maxCorners,\n",
    "                       qualityLevel = 0.2,\n",
    "                       minDistance = 7,\n",
    "                       blockSize = 7\n",
    "                     )\n",
    "\n",
    "\n",
    "lk_params = dict( winSize = (15, 15), maxLevel = 2, criteria = (cv2.TERM_CRITERIA_EPS | cv2.TERM_CRITERIA_COUNT, 10, 0.03))\n",
    "  \n",
    "\n",
    "ret, old_frame = cap.read()\n",
    "old_gray = cv2.cvtColor(old_frame, cv2.COLOR_BGR2GRAY)\n",
    "\n",
    "p0 = cv2.goodFeaturesToTrack(old_gray, mask = None, **feature_params)\n",
    "  \n",
    "mask = np.zeros_like(old_frame)\n",
    "while(1):\n",
    "      \n",
    "    ret, frame = cap.read()\n",
    "    frame_gray = cv2.cvtColor(frame, cv2.COLOR_BGR2GRAY)\n",
    "  \n",
    "    p1, st, err = cv2.calcOpticalFlowPyrLK(old_gray, frame_gray, p0, None, **lk_params)\n",
    "  \n",
    "    good_new = p1[st==1]\n",
    "    good_old = p0[st==1]\n",
    "\n",
    "    for i, (new, old) in enumerate(zip(good_new, good_old)):\n",
    "        a, b = new.ravel()\n",
    "        c, d = old.ravel()\n",
    "        a = int(a)\n",
    "        b = int(b)\n",
    "        c = int(c)\n",
    "        d = int(d)\n",
    "\n",
    "        mask = cv2.line(mask, (a, b), (c, d), color[i].tolist(), 2)\n",
    "        frame = cv2.circle(frame, (a, b), 5, color[i].tolist(), -1)\n",
    "          \n",
    "    img = cv2.add(frame, mask)\n",
    "  \n",
    "    cv2.imshow('frame', img)\n",
    "      \n",
    "    \n",
    "    k = cv2.waitKey(25)\n",
    "    if k == 27:\n",
    "        break\n",
    "  \n",
    "    \n",
    "    old_gray = frame_gray.copy()\n",
    "    p0 = good_new.reshape(-1, 1, 2)\n",
    "  \n",
    "cv2.destroyAllWindows()\n",
    "cap.release()"
   ]
  },
  {
   "cell_type": "markdown",
   "metadata": {},
   "source": [
    "حرکت آن ها را lucas kanade هرچند برای این بخش توضیحاتی خواسته نشده بود، اما تعداد 100 نقطه از نقاطی که مستعد دنبال کردن هستند را یافته ایم و مطابق الگوریتم  \n",
    "درچند فریم پشت سر هم نشان داده ایم\n",
    "\n",
    "عدد  VideoCapture دقت کنید که شما میتوانید برای اجرا شدن الگو برروی تصویر دوربین به صورت بلادرنگ، در آرگومان ورودی   \n",
    "0 قرار دهید"
   ]
  },
  {
   "cell_type": "code",
   "execution_count": 4,
   "metadata": {},
   "outputs": [
    {
     "name": "stderr",
     "output_type": "stream",
     "text": [
      "C:\\Users\\padidar\\AppData\\Local\\Temp\\ipykernel_1964\\37178838.py:21: RuntimeWarning: invalid value encountered in cast\n",
      "  mask[..., 2] = cv2.normalize(magnitude, None, 0, 255, cv2.NORM_MINMAX)\n"
     ]
    }
   ],
   "source": [
    "cap = cv2.VideoCapture('./dog.mp4') #Replace the path with 0 to open the camera\n",
    "\n",
    "\n",
    "ret, first_frame = cap.read()\n",
    "prev_gray = cv2.cvtColor(first_frame, cv2.COLOR_BGR2GRAY)\n",
    "mask = np.zeros_like(first_frame)  \n",
    "\n",
    "mask[..., 1] = 255\n",
    "\n",
    "while(1):\n",
    "      \n",
    "    ret, frame = cap.read()\n",
    "    cv2.imshow(\"Original Video\", frame)\n",
    "    gray = cv2.cvtColor(frame, cv2.COLOR_BGR2GRAY)\n",
    "      \n",
    "    flow = cv2.calcOpticalFlowFarneback(prev_gray, gray, None, 0.5, 3, 15, 3, 5, 1.2, 0)\n",
    "    magnitude, angle = cv2.cartToPolar(flow[..., 0], flow[..., 1])\n",
    "      \n",
    "    \n",
    "    mask[..., 0] = angle * 180 / np.pi / 2\n",
    "    mask[..., 2] = cv2.normalize(magnitude, None, 0, 255, cv2.NORM_MINMAX)\n",
    "      \n",
    "    rgb = cv2.cvtColor(mask, cv2.COLOR_HSV2BGR)\n",
    "      \n",
    "    cv2.imshow(\"Dense Optical Flow\", rgb)\n",
    "    prev_gray = gray\n",
    "    \n",
    "    \n",
    "    k = cv2.waitKey(25)\n",
    "    if k == 27:\n",
    "        break\n",
    "\n",
    "cap.release()\n",
    "cv2.destroyAllWindows()\n"
   ]
  },
  {
   "cell_type": "markdown",
   "metadata": {},
   "source": [
    "برروی کل تصویر پیاده کرده ایم که نتیجه را میبینید Dense در این سل نیز الگوریتم را به صورت \n",
    "\n",
    "بازمیگردد hsv علت آبی شدن هنگام چرخش به چپ و قرمز شدن هنگام چرخش به راست، به نحوه تعریف و خواص "
   ]
  },
  {
   "cell_type": "code",
   "execution_count": 7,
   "metadata": {},
   "outputs": [],
   "source": [
    "import os, os.path\n",
    "import cv2\n",
    "from sklearn.preprocessing import StandardScaler \n",
    "\n",
    "parent_path_surp = \"../Lab1/Cohn-Kanade/surprise videos/\"\n",
    "parent_path_happ = \"../Lab1/Cohn-Kanade/happy videos/\"\n",
    "\n",
    "videos_surp = os.listdir(parent_path_surp)\n",
    "videos_happ = os.listdir(parent_path_happ)\n",
    "\n",
    "CropAndResize = lambda img: img[55:670:2, 355:845:2]\n",
    "\n",
    "\n",
    "Happy_Videos = []\n",
    "Happy_labels = []\n",
    "\n",
    "idxs = np.arange(len(videos_happ))\n",
    "np.random.shuffle(idxs)\n",
    "dirs = list(np.array(videos_happ)[idxs])\n",
    "\n",
    "for idx, sub_dir in enumerate(dirs):\n",
    "    directory = parent_path_happ + sub_dir + \"/\"\n",
    "    images = os.listdir(directory)\n",
    "    X = []\n",
    "    for img_num, img in enumerate(images):\n",
    "        pic = cv2.cvtColor(cv2.imread(directory + img), cv2.COLOR_BGR2GRAY)\n",
    "        X.append(CropAndResize(pic))\n",
    "    Happy_Videos.append(X)\n",
    "    Happy_labels.append(0)\n",
    "\n",
    "\n",
    "Surprise_Videos = []\n",
    "Surprise_labels = []\n",
    "\n",
    "idxs = np.arange(len(videos_surp))\n",
    "np.random.shuffle(idxs)\n",
    "dirs = list(np.array(videos_surp)[idxs])\n",
    "\n",
    "for idx, sub_dir in enumerate(dirs):\n",
    "    directory = parent_path_surp + sub_dir + \"/\"\n",
    "    images = os.listdir(directory)\n",
    "    X = []\n",
    "    for img_num, img in enumerate(images):\n",
    "        pic = cv2.cvtColor(cv2.imread(directory + img), cv2.COLOR_BGR2GRAY)\n",
    "        X.append(CropAndResize(pic))\n",
    "    Surprise_Videos.append(X)\n",
    "    Surprise_labels.append(1)\n",
    "\n"
   ]
  },
  {
   "cell_type": "markdown",
   "metadata": {},
   "source": [
    "در این قسمت، هر ویدیو را خوانده و هر ویدیو را به صورت یک لیست ذخیره کرده ایم. برای هر دسته مجموعه ویدیو ها را به صورت لیستی از لیست ها ذخیره کرده ایم. در همین حین عملیات ماسکه کردن و تغییر رزولوشن را نیز انجام داده ایم"
   ]
  },
  {
   "cell_type": "code",
   "execution_count": 8,
   "metadata": {},
   "outputs": [],
   "source": [
    "lk_params = dict( winSize = (15, 15), maxLevel = 2, criteria = (cv2.TERM_CRITERIA_EPS | cv2.TERM_CRITERIA_COUNT, 10, 0.03))\n",
    "\n",
    "X = []\n",
    "y = []\n",
    "\n",
    "for hv in range(len(Happy_Videos)):\n",
    "    prev_gray = Happy_Videos[hv][0]\n",
    "    hist_list = []\n",
    "    i = 1\n",
    "    while True:\n",
    "        gray = Happy_Videos[hv][i]\n",
    "        flow = cv2.calcOpticalFlowFarneback(prev_gray, gray, None, 0.5, 3, 15, 3, 5, 1.2, 0)\n",
    "        mag, angle = cv2.cartToPolar(flow[..., 0], flow[..., 1])\n",
    "        hist = np.histogram(angle.ravel(), bins=np.linspace(0,2*np.pi,9))[0]\n",
    "\n",
    "        hist_list.append(hist)\n",
    "\n",
    "        prev_gray = gray\n",
    "\n",
    "        i = i+1\n",
    "        if i >= len(Happy_Videos[hv]):\n",
    "            break\n",
    "\n",
    "\n",
    "    \n",
    "    hist_np = np.array(hist_list)\n",
    "    whole_hist = np.concatenate((np.mean(hist_np, axis=0), np.max(hist_np, axis=0)))\n",
    "    \n",
    "\n",
    "    X.append(whole_hist)\n",
    "    y.append(0)\n",
    "\n",
    "\n",
    "\n",
    "\n",
    "\n",
    "for sv in range(len(Surprise_Videos)):\n",
    "    prev_gray = Surprise_Videos[sv][0]\n",
    "    hist_list = []\n",
    "    i = 1\n",
    "    while True:\n",
    "        gray = Surprise_Videos[hv][i]\n",
    "        flow = cv2.calcOpticalFlowFarneback(prev_gray, gray, None, 0.5, 3, 15, 3, 5, 1.2, 0)\n",
    "        mag, angle = cv2.cartToPolar(flow[..., 0], flow[..., 1])\n",
    "        hist = np.histogram(angle.ravel(), bins=np.linspace(0,2*np.pi,9))[0]\n",
    "\n",
    "        hist_list.append(hist)\n",
    "\n",
    "        prev_gray = gray\n",
    "\n",
    "        i = i+1\n",
    "        if i >= len(Surprise_Videos[hv]):\n",
    "            break\n",
    "\n",
    "\n",
    "    \n",
    "    hist_np = np.array(hist_list)\n",
    "    whole_hist = np.concatenate((np.mean(hist_np, axis=0), np.max(hist_np, axis=0)))\n",
    "    \n",
    "\n",
    "    X.append(whole_hist)\n",
    "    y.append(1)\n",
    "\n",
    "\n",
    "\n",
    "\n"
   ]
  },
  {
   "cell_type": "markdown",
   "metadata": {},
   "source": [
    "را مشابه سل های قبلی انجام داده ایم و البته برای تمام تصاویر هر ویدیو، برای زوایای بدست آمده از نتیجه گرادیان، هیستوگرام ترسیم کرده ایم optical flow همانطور که در فوق مشخص است، برای هر یک از دسته ها، عملیات \n",
    "\n",
    "را به صورت ترکیب میانگین هیستوگرام ها و ماکسیمم هیستوگرام ها (مطابق خواسته دستور کار) تعریف کرده ایم descriptor در پایان برای هر هیستوگرام مشخصه "
   ]
  },
  {
   "cell_type": "code",
   "execution_count": 9,
   "metadata": {},
   "outputs": [
    {
     "name": "stdout",
     "output_type": "stream",
     "text": [
      "Accuracy: 100.00%\n"
     ]
    }
   ],
   "source": [
    "from sklearn.model_selection import train_test_split\n",
    "from sklearn.svm import SVC\n",
    "from sklearn.metrics import accuracy_score\n",
    "from sklearn.preprocessing import StandardScaler\n",
    "\n",
    "X_train, X_test, y_train, y_test = train_test_split(X, y, test_size=0.3, random_state=42)\n",
    "train_data_reshaped = np.array(X_train).reshape(len(X_train), -1)\n",
    "test_data_reshaped = np.array(X_test).reshape(len(X_test), -1)\n",
    "\n",
    "scaler = StandardScaler()\n",
    "scaler.fit(train_data_reshaped)\n",
    "train_data_reshaped = scaler.transform(train_data_reshaped)\n",
    "\n",
    "scaler.fit(test_data_reshaped)\n",
    "test_data_reshaped = scaler.transform(test_data_reshaped)\n",
    "\n",
    "svm_classifier = SVC(C=100)\n",
    "svm_classifier.fit(X_train, y_train)\n",
    "y_pred = svm_classifier.predict(X_test)\n",
    "accuracy = accuracy_score(y_test, y_pred)\n",
    "\n",
    "\n",
    "print(f'Accuracy: {accuracy * 100:.2f}%')\n"
   ]
  },
  {
   "cell_type": "markdown",
   "metadata": {},
   "source": [
    "و با ویژگی یاد شده بر حسب هیستوگرام ها، توانسته ایم به دقت 100 درصد برسیم! که کاملا مناسب است SVM همانطور که در فوق مشخص است، با تعریف کلسیفایر "
   ]
  },
  {
   "cell_type": "code",
   "execution_count": 10,
   "metadata": {},
   "outputs": [
    {
     "data": {
      "image/png": "[encoded data removed]",
      "text/plain": [
       "<Figure size 800x600 with 2 Axes>"
      ]
     },
     "metadata": {},
     "output_type": "display_data"
    }
   ],
   "source": [
    "from sklearn.metrics import confusion_matrix\n",
    "import seaborn as sns\n",
    "import matplotlib.pyplot as plt\n",
    "\n",
    "conf_mat = confusion_matrix(y_test, y_pred)\n",
    "\n",
    "plt.figure(figsize=(8, 6))\n",
    "sns.heatmap(conf_mat, annot=True, fmt='d', cmap='Greens', xticklabels=\"SH\", yticklabels=\"SH\")\n",
    "plt.xlabel('Predicted')\n",
    "plt.ylabel('Actual')\n",
    "plt.title('Confusion Matrix')\n",
    "plt.show()"
   ]
  }
 ],
 "metadata": {
  "kernelspec": {
   "display_name": "Python 3",
   "language": "python",
   "name": "python3"
  },
  "language_info": {
   "codemirror_mode": {
    "name": "ipython",
    "version": 3
   },
   "file_extension": ".py",
   "mimetype": "text/x-python",
   "name": "python",
   "nbconvert_exporter": "python",
   "pygments_lexer": "ipython3",
   "version": "3.9.0"
  }
 },
 "nbformat": 4,
 "nbformat_minor": 2
}
